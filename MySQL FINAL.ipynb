{
 "cells": [
  {
   "cell_type": "code",
   "execution_count": 4,
   "metadata": {},
   "outputs": [],
   "source": [
    "database = \"sqlite_db_pythonsqlite.db\""
   ]
  },
  {
   "cell_type": "code",
   "execution_count": 5,
   "metadata": {},
   "outputs": [],
   "source": [
    "import sqlite3"
   ]
  },
  {
   "cell_type": "code",
   "execution_count": 6,
   "metadata": {},
   "outputs": [
    {
     "name": "stdout",
     "output_type": "stream",
     "text": [
      "2.6.0\n"
     ]
    },
    {
     "data": {
      "text/plain": [
       "<sqlite3.Connection at 0x7fd104fc53f0>"
      ]
     },
     "execution_count": 6,
     "metadata": {},
     "output_type": "execute_result"
    }
   ],
   "source": [
    "conn = sqlite3.connect(database)\n",
    "print(sqlite3.version)\n",
    "conn"
   ]
  },
  {
   "cell_type": "code",
   "execution_count": 7,
   "metadata": {},
   "outputs": [],
   "source": [
    "import pandas as pd"
   ]
  },
  {
   "cell_type": "markdown",
   "metadata": {},
   "source": [
    "Q1: Some of the facilities charge a fee to members, but some do not.\n",
    "Write a SQL query to produce a list of the names of the facilities that do."
   ]
  },
  {
   "cell_type": "code",
   "execution_count": 20,
   "metadata": {},
   "outputs": [
    {
     "data": {
      "text/plain": [
       "<sqlite3.Cursor at 0x7fd105f97420>"
      ]
     },
     "execution_count": 20,
     "metadata": {},
     "output_type": "execute_result"
    }
   ],
   "source": [
    "cur = conn.cursor()\n",
    "    \n",
    "query1 = \"\"\"\n",
    "    SELECT \n",
    "\tname,\n",
    "\tmembercost\n",
    "FROM \n",
    "\tFacilities\n",
    "WHERE \n",
    "\tmembercost > 0;\n",
    "    \"\"\"\n",
    "cur.execute(query1)"
   ]
  },
  {
   "cell_type": "code",
   "execution_count": 21,
   "metadata": {},
   "outputs": [],
   "source": [
    "rows = cur.fetchall()"
   ]
  },
  {
   "cell_type": "code",
   "execution_count": 22,
   "metadata": {},
   "outputs": [
    {
     "data": {
      "text/plain": [
       "[('Tennis Court 1', 5),\n",
       " ('Tennis Court 2', 5),\n",
       " ('Massage Room 1', 9.9),\n",
       " ('Massage Room 2', 9.9),\n",
       " ('Squash Court', 3.5)]"
      ]
     },
     "execution_count": 22,
     "metadata": {},
     "output_type": "execute_result"
    }
   ],
   "source": [
    "rows"
   ]
  },
  {
   "cell_type": "code",
   "execution_count": 27,
   "metadata": {},
   "outputs": [],
   "source": [
    "# need to specify column names manually in sqlite3\n",
    "f = pd.DataFrame(rows, columns=['FacilityName', 'MemberCost'])\n"
   ]
  },
  {
   "cell_type": "code",
   "execution_count": 28,
   "metadata": {},
   "outputs": [
    {
     "data": {
      "text/html": [
       "<div>\n",
       "<style scoped>\n",
       "    .dataframe tbody tr th:only-of-type {\n",
       "        vertical-align: middle;\n",
       "    }\n",
       "\n",
       "    .dataframe tbody tr th {\n",
       "        vertical-align: top;\n",
       "    }\n",
       "\n",
       "    .dataframe thead th {\n",
       "        text-align: right;\n",
       "    }\n",
       "</style>\n",
       "<table border=\"1\" class=\"dataframe\">\n",
       "  <thead>\n",
       "    <tr style=\"text-align: right;\">\n",
       "      <th></th>\n",
       "      <th>FacilityName</th>\n",
       "      <th>MemberCost</th>\n",
       "    </tr>\n",
       "  </thead>\n",
       "  <tbody>\n",
       "    <tr>\n",
       "      <th>0</th>\n",
       "      <td>Tennis Court 1</td>\n",
       "      <td>5.0</td>\n",
       "    </tr>\n",
       "    <tr>\n",
       "      <th>1</th>\n",
       "      <td>Tennis Court 2</td>\n",
       "      <td>5.0</td>\n",
       "    </tr>\n",
       "    <tr>\n",
       "      <th>2</th>\n",
       "      <td>Massage Room 1</td>\n",
       "      <td>9.9</td>\n",
       "    </tr>\n",
       "    <tr>\n",
       "      <th>3</th>\n",
       "      <td>Massage Room 2</td>\n",
       "      <td>9.9</td>\n",
       "    </tr>\n",
       "    <tr>\n",
       "      <th>4</th>\n",
       "      <td>Squash Court</td>\n",
       "      <td>3.5</td>\n",
       "    </tr>\n",
       "  </tbody>\n",
       "</table>\n",
       "</div>"
      ],
      "text/plain": [
       "     FacilityName  MemberCost\n",
       "0  Tennis Court 1         5.0\n",
       "1  Tennis Court 2         5.0\n",
       "2  Massage Room 1         9.9\n",
       "3  Massage Room 2         9.9\n",
       "4    Squash Court         3.5"
      ]
     },
     "execution_count": 28,
     "metadata": {},
     "output_type": "execute_result"
    }
   ],
   "source": [
    "f"
   ]
  },
  {
   "cell_type": "markdown",
   "metadata": {},
   "source": [
    "Q2: How many facilities do not charge a fee to members?"
   ]
  },
  {
   "cell_type": "code",
   "execution_count": 29,
   "metadata": {},
   "outputs": [
    {
     "data": {
      "text/plain": [
       "<sqlite3.Cursor at 0x7fd1060742d0>"
      ]
     },
     "execution_count": 29,
     "metadata": {},
     "output_type": "execute_result"
    }
   ],
   "source": [
    "cur2 = conn.cursor()\n",
    "    \n",
    "query2 = \"\"\"\n",
    "    SELECT\n",
    "\tCOUNT(membercost)\n",
    "FROM\n",
    "\tFacilities\n",
    "WHERE\n",
    "\tmembercost = 0;\n",
    "    \"\"\"\n",
    "cur2.execute(query2)"
   ]
  },
  {
   "cell_type": "code",
   "execution_count": 30,
   "metadata": {},
   "outputs": [],
   "source": [
    "rows2 = cur2.fetchall()"
   ]
  },
  {
   "cell_type": "code",
   "execution_count": 35,
   "metadata": {},
   "outputs": [
    {
     "data": {
      "text/plain": [
       "[(4,)]"
      ]
     },
     "execution_count": 35,
     "metadata": {},
     "output_type": "execute_result"
    }
   ],
   "source": [
    "rows2"
   ]
  },
  {
   "cell_type": "markdown",
   "metadata": {},
   "source": [
    "Q3: Write an SQL query to show a list of facilities that charge a fee to members,\n",
    "where the fee is less than 20% of the facility's monthly maintenance cost.\n",
    "Return the facid, facility name, member cost, and monthly maintenance of the\n",
    "facilities in question."
   ]
  },
  {
   "cell_type": "code",
   "execution_count": 36,
   "metadata": {},
   "outputs": [
    {
     "data": {
      "text/plain": [
       "<sqlite3.Cursor at 0x7fd106074490>"
      ]
     },
     "execution_count": 36,
     "metadata": {},
     "output_type": "execute_result"
    }
   ],
   "source": [
    "cur3 = conn.cursor()\n",
    "    \n",
    "query3 = \"\"\"\n",
    "SELECT\n",
    "\tmembercost,\n",
    "\tmonthlymaintenance,\n",
    "\tfacid,\n",
    "\tname\n",
    "FROM\n",
    "\tFacilities\n",
    "WHERE\n",
    "\t membercost < (monthlymaintenance  * .2);\n",
    "    \"\"\"\n",
    "cur3.execute(query3)"
   ]
  },
  {
   "cell_type": "code",
   "execution_count": 39,
   "metadata": {},
   "outputs": [],
   "source": [
    "rows3 = cur3.fetchall()"
   ]
  },
  {
   "cell_type": "code",
   "execution_count": 40,
   "metadata": {},
   "outputs": [
    {
     "data": {
      "text/plain": [
       "[(5, 200, 0, 'Tennis Court 1'),\n",
       " (5, 200, 1, 'Tennis Court 2'),\n",
       " (0, 50, 2, 'Badminton Court'),\n",
       " (0, 10, 3, 'Table Tennis'),\n",
       " (9.9, 3000, 4, 'Massage Room 1'),\n",
       " (9.9, 3000, 5, 'Massage Room 2'),\n",
       " (3.5, 80, 6, 'Squash Court'),\n",
       " (0, 15, 7, 'Snooker Table'),\n",
       " (0, 15, 8, 'Pool Table')]"
      ]
     },
     "execution_count": 40,
     "metadata": {},
     "output_type": "execute_result"
    }
   ],
   "source": [
    "rows3"
   ]
  },
  {
   "cell_type": "code",
   "execution_count": 43,
   "metadata": {},
   "outputs": [
    {
     "data": {
      "text/html": [
       "<div>\n",
       "<style scoped>\n",
       "    .dataframe tbody tr th:only-of-type {\n",
       "        vertical-align: middle;\n",
       "    }\n",
       "\n",
       "    .dataframe tbody tr th {\n",
       "        vertical-align: top;\n",
       "    }\n",
       "\n",
       "    .dataframe thead th {\n",
       "        text-align: right;\n",
       "    }\n",
       "</style>\n",
       "<table border=\"1\" class=\"dataframe\">\n",
       "  <thead>\n",
       "    <tr style=\"text-align: right;\">\n",
       "      <th></th>\n",
       "      <th>Member Cost</th>\n",
       "      <th>monthlymaintenance</th>\n",
       "      <th>facid</th>\n",
       "      <th>FacilityName</th>\n",
       "    </tr>\n",
       "  </thead>\n",
       "  <tbody>\n",
       "    <tr>\n",
       "      <th>0</th>\n",
       "      <td>5.0</td>\n",
       "      <td>200</td>\n",
       "      <td>0</td>\n",
       "      <td>Tennis Court 1</td>\n",
       "    </tr>\n",
       "    <tr>\n",
       "      <th>1</th>\n",
       "      <td>5.0</td>\n",
       "      <td>200</td>\n",
       "      <td>1</td>\n",
       "      <td>Tennis Court 2</td>\n",
       "    </tr>\n",
       "    <tr>\n",
       "      <th>2</th>\n",
       "      <td>0.0</td>\n",
       "      <td>50</td>\n",
       "      <td>2</td>\n",
       "      <td>Badminton Court</td>\n",
       "    </tr>\n",
       "    <tr>\n",
       "      <th>3</th>\n",
       "      <td>0.0</td>\n",
       "      <td>10</td>\n",
       "      <td>3</td>\n",
       "      <td>Table Tennis</td>\n",
       "    </tr>\n",
       "    <tr>\n",
       "      <th>4</th>\n",
       "      <td>9.9</td>\n",
       "      <td>3000</td>\n",
       "      <td>4</td>\n",
       "      <td>Massage Room 1</td>\n",
       "    </tr>\n",
       "    <tr>\n",
       "      <th>5</th>\n",
       "      <td>9.9</td>\n",
       "      <td>3000</td>\n",
       "      <td>5</td>\n",
       "      <td>Massage Room 2</td>\n",
       "    </tr>\n",
       "    <tr>\n",
       "      <th>6</th>\n",
       "      <td>3.5</td>\n",
       "      <td>80</td>\n",
       "      <td>6</td>\n",
       "      <td>Squash Court</td>\n",
       "    </tr>\n",
       "    <tr>\n",
       "      <th>7</th>\n",
       "      <td>0.0</td>\n",
       "      <td>15</td>\n",
       "      <td>7</td>\n",
       "      <td>Snooker Table</td>\n",
       "    </tr>\n",
       "    <tr>\n",
       "      <th>8</th>\n",
       "      <td>0.0</td>\n",
       "      <td>15</td>\n",
       "      <td>8</td>\n",
       "      <td>Pool Table</td>\n",
       "    </tr>\n",
       "  </tbody>\n",
       "</table>\n",
       "</div>"
      ],
      "text/plain": [
       "   Member Cost  monthlymaintenance  facid     FacilityName\n",
       "0          5.0                 200      0   Tennis Court 1\n",
       "1          5.0                 200      1   Tennis Court 2\n",
       "2          0.0                  50      2  Badminton Court\n",
       "3          0.0                  10      3     Table Tennis\n",
       "4          9.9                3000      4   Massage Room 1\n",
       "5          9.9                3000      5   Massage Room 2\n",
       "6          3.5                  80      6     Squash Court\n",
       "7          0.0                  15      7    Snooker Table\n",
       "8          0.0                  15      8       Pool Table"
      ]
     },
     "execution_count": 43,
     "metadata": {},
     "output_type": "execute_result"
    }
   ],
   "source": [
    "f3 = pd.DataFrame(rows3, columns=['Member Cost', 'monthlymaintenance','facid','FacilityName'])\n",
    "f3"
   ]
  },
  {
   "cell_type": "markdown",
   "metadata": {},
   "source": [
    "Q4: Write an SQL query to retrieve the details of facilities with ID 1 and 5.\n",
    "Try writing the query without using the OR operator."
   ]
  },
  {
   "cell_type": "code",
   "execution_count": 44,
   "metadata": {},
   "outputs": [
    {
     "data": {
      "text/plain": [
       "<sqlite3.Cursor at 0x7fd105f8ddc0>"
      ]
     },
     "execution_count": 44,
     "metadata": {},
     "output_type": "execute_result"
    }
   ],
   "source": [
    "cur4 = conn.cursor()\n",
    "    \n",
    "query4 = \"\"\"\n",
    "SELECT \n",
    "\t*\n",
    "FROM\n",
    "\tFacilities\n",
    "WHERE \n",
    "\tfacid IN('1','5')\n",
    "    \"\"\"\n",
    "cur4.execute(query4)"
   ]
  },
  {
   "cell_type": "code",
   "execution_count": 45,
   "metadata": {},
   "outputs": [],
   "source": [
    "rows4 = cur4.fetchall()"
   ]
  },
  {
   "cell_type": "code",
   "execution_count": 46,
   "metadata": {},
   "outputs": [
    {
     "data": {
      "text/plain": [
       "[(1, 'Tennis Court 2', 5, 25, 8000, 200),\n",
       " (5, 'Massage Room 2', 9.9, 80, 4000, 3000)]"
      ]
     },
     "execution_count": 46,
     "metadata": {},
     "output_type": "execute_result"
    }
   ],
   "source": [
    "rows4"
   ]
  },
  {
   "cell_type": "code",
   "execution_count": 49,
   "metadata": {},
   "outputs": [
    {
     "data": {
      "text/html": [
       "<div>\n",
       "<style scoped>\n",
       "    .dataframe tbody tr th:only-of-type {\n",
       "        vertical-align: middle;\n",
       "    }\n",
       "\n",
       "    .dataframe tbody tr th {\n",
       "        vertical-align: top;\n",
       "    }\n",
       "\n",
       "    .dataframe thead th {\n",
       "        text-align: right;\n",
       "    }\n",
       "</style>\n",
       "<table border=\"1\" class=\"dataframe\">\n",
       "  <thead>\n",
       "    <tr style=\"text-align: right;\">\n",
       "      <th></th>\n",
       "      <th>monthlymaintenance</th>\n",
       "      <th>facid</th>\n",
       "      <th>name</th>\n",
       "      <th>membercost</th>\n",
       "      <th>guestcost</th>\n",
       "      <th>initialoutlay</th>\n",
       "    </tr>\n",
       "  </thead>\n",
       "  <tbody>\n",
       "    <tr>\n",
       "      <th>0</th>\n",
       "      <td>1</td>\n",
       "      <td>Tennis Court 2</td>\n",
       "      <td>5.0</td>\n",
       "      <td>25</td>\n",
       "      <td>8000</td>\n",
       "      <td>200</td>\n",
       "    </tr>\n",
       "    <tr>\n",
       "      <th>1</th>\n",
       "      <td>5</td>\n",
       "      <td>Massage Room 2</td>\n",
       "      <td>9.9</td>\n",
       "      <td>80</td>\n",
       "      <td>4000</td>\n",
       "      <td>3000</td>\n",
       "    </tr>\n",
       "  </tbody>\n",
       "</table>\n",
       "</div>"
      ],
      "text/plain": [
       "   monthlymaintenance           facid  name  membercost  guestcost  \\\n",
       "0                   1  Tennis Court 2   5.0          25       8000   \n",
       "1                   5  Massage Room 2   9.9          80       4000   \n",
       "\n",
       "   initialoutlay  \n",
       "0            200  \n",
       "1           3000  "
      ]
     },
     "execution_count": 49,
     "metadata": {},
     "output_type": "execute_result"
    }
   ],
   "source": [
    "f4 = pd.DataFrame(rows4, columns=['monthlymaintenance',\n",
    "'facid',\n",
    "'name',\n",
    "'membercost',\n",
    "'guestcost',\n",
    "'initialoutlay'])\n",
    "f4"
   ]
  },
  {
   "cell_type": "markdown",
   "metadata": {},
   "source": [
    "Q5: Produce a list of facilities, with each labelled as 'cheap' or 'expensive', depending on if their monthly maintenance cost is more than $100. Return the name and monthly maintenance of the facilities in question."
   ]
  },
  {
   "cell_type": "code",
   "execution_count": 50,
   "metadata": {},
   "outputs": [
    {
     "data": {
      "text/plain": [
       "<sqlite3.Cursor at 0x7fd106091030>"
      ]
     },
     "execution_count": 50,
     "metadata": {},
     "output_type": "execute_result"
    }
   ],
   "source": [
    "cur5 = conn.cursor()\n",
    "    \n",
    "query5 = \"\"\"\n",
    "SELECT \n",
    "\t*,\n",
    "\tCASE\n",
    "\t\tWHEN monthlymaintenance > 100\n",
    "\t\t\tTHEN 'expensive'\n",
    "\t\tWHEN monthlymaintenance < 100\n",
    "\t\t\tTHEN 'cheap' END\n",
    "\t\tAS type\n",
    "FROM\n",
    "\tFacilities\n",
    "ORDER BY\n",
    "\ttype\n",
    "    \"\"\"\n",
    "cur5.execute(query5)"
   ]
  },
  {
   "cell_type": "code",
   "execution_count": 51,
   "metadata": {},
   "outputs": [
    {
     "data": {
      "text/plain": [
       "[(2, 'Badminton Court', 0, 15.5, 4000, 50, 'cheap'),\n",
       " (3, 'Table Tennis', 0, 5, 320, 10, 'cheap'),\n",
       " (6, 'Squash Court', 3.5, 17.5, 5000, 80, 'cheap'),\n",
       " (7, 'Snooker Table', 0, 5, 450, 15, 'cheap'),\n",
       " (8, 'Pool Table', 0, 5, 400, 15, 'cheap'),\n",
       " (0, 'Tennis Court 1', 5, 25, 10000, 200, 'expensive'),\n",
       " (1, 'Tennis Court 2', 5, 25, 8000, 200, 'expensive'),\n",
       " (4, 'Massage Room 1', 9.9, 80, 4000, 3000, 'expensive'),\n",
       " (5, 'Massage Room 2', 9.9, 80, 4000, 3000, 'expensive')]"
      ]
     },
     "execution_count": 51,
     "metadata": {},
     "output_type": "execute_result"
    }
   ],
   "source": [
    "rows5 = cur5.fetchall()\n",
    "rows5"
   ]
  },
  {
   "cell_type": "code",
   "execution_count": 53,
   "metadata": {},
   "outputs": [
    {
     "data": {
      "text/html": [
       "<div>\n",
       "<style scoped>\n",
       "    .dataframe tbody tr th:only-of-type {\n",
       "        vertical-align: middle;\n",
       "    }\n",
       "\n",
       "    .dataframe tbody tr th {\n",
       "        vertical-align: top;\n",
       "    }\n",
       "\n",
       "    .dataframe thead th {\n",
       "        text-align: right;\n",
       "    }\n",
       "</style>\n",
       "<table border=\"1\" class=\"dataframe\">\n",
       "  <thead>\n",
       "    <tr style=\"text-align: right;\">\n",
       "      <th></th>\n",
       "      <th>facid</th>\n",
       "      <th>name</th>\n",
       "      <th>membercost</th>\n",
       "      <th>guestcost</th>\n",
       "      <th>initialoutlay</th>\n",
       "      <th>monthlymaintenance</th>\n",
       "      <th>type</th>\n",
       "    </tr>\n",
       "  </thead>\n",
       "  <tbody>\n",
       "    <tr>\n",
       "      <th>0</th>\n",
       "      <td>2</td>\n",
       "      <td>Badminton Court</td>\n",
       "      <td>0.0</td>\n",
       "      <td>15.5</td>\n",
       "      <td>4000</td>\n",
       "      <td>50</td>\n",
       "      <td>cheap</td>\n",
       "    </tr>\n",
       "    <tr>\n",
       "      <th>1</th>\n",
       "      <td>3</td>\n",
       "      <td>Table Tennis</td>\n",
       "      <td>0.0</td>\n",
       "      <td>5.0</td>\n",
       "      <td>320</td>\n",
       "      <td>10</td>\n",
       "      <td>cheap</td>\n",
       "    </tr>\n",
       "    <tr>\n",
       "      <th>2</th>\n",
       "      <td>6</td>\n",
       "      <td>Squash Court</td>\n",
       "      <td>3.5</td>\n",
       "      <td>17.5</td>\n",
       "      <td>5000</td>\n",
       "      <td>80</td>\n",
       "      <td>cheap</td>\n",
       "    </tr>\n",
       "    <tr>\n",
       "      <th>3</th>\n",
       "      <td>7</td>\n",
       "      <td>Snooker Table</td>\n",
       "      <td>0.0</td>\n",
       "      <td>5.0</td>\n",
       "      <td>450</td>\n",
       "      <td>15</td>\n",
       "      <td>cheap</td>\n",
       "    </tr>\n",
       "    <tr>\n",
       "      <th>4</th>\n",
       "      <td>8</td>\n",
       "      <td>Pool Table</td>\n",
       "      <td>0.0</td>\n",
       "      <td>5.0</td>\n",
       "      <td>400</td>\n",
       "      <td>15</td>\n",
       "      <td>cheap</td>\n",
       "    </tr>\n",
       "    <tr>\n",
       "      <th>5</th>\n",
       "      <td>0</td>\n",
       "      <td>Tennis Court 1</td>\n",
       "      <td>5.0</td>\n",
       "      <td>25.0</td>\n",
       "      <td>10000</td>\n",
       "      <td>200</td>\n",
       "      <td>expensive</td>\n",
       "    </tr>\n",
       "    <tr>\n",
       "      <th>6</th>\n",
       "      <td>1</td>\n",
       "      <td>Tennis Court 2</td>\n",
       "      <td>5.0</td>\n",
       "      <td>25.0</td>\n",
       "      <td>8000</td>\n",
       "      <td>200</td>\n",
       "      <td>expensive</td>\n",
       "    </tr>\n",
       "    <tr>\n",
       "      <th>7</th>\n",
       "      <td>4</td>\n",
       "      <td>Massage Room 1</td>\n",
       "      <td>9.9</td>\n",
       "      <td>80.0</td>\n",
       "      <td>4000</td>\n",
       "      <td>3000</td>\n",
       "      <td>expensive</td>\n",
       "    </tr>\n",
       "    <tr>\n",
       "      <th>8</th>\n",
       "      <td>5</td>\n",
       "      <td>Massage Room 2</td>\n",
       "      <td>9.9</td>\n",
       "      <td>80.0</td>\n",
       "      <td>4000</td>\n",
       "      <td>3000</td>\n",
       "      <td>expensive</td>\n",
       "    </tr>\n",
       "  </tbody>\n",
       "</table>\n",
       "</div>"
      ],
      "text/plain": [
       "   facid             name  membercost  guestcost  initialoutlay  \\\n",
       "0      2  Badminton Court         0.0       15.5           4000   \n",
       "1      3     Table Tennis         0.0        5.0            320   \n",
       "2      6     Squash Court         3.5       17.5           5000   \n",
       "3      7    Snooker Table         0.0        5.0            450   \n",
       "4      8       Pool Table         0.0        5.0            400   \n",
       "5      0   Tennis Court 1         5.0       25.0          10000   \n",
       "6      1   Tennis Court 2         5.0       25.0           8000   \n",
       "7      4   Massage Room 1         9.9       80.0           4000   \n",
       "8      5   Massage Room 2         9.9       80.0           4000   \n",
       "\n",
       "   monthlymaintenance       type  \n",
       "0                  50      cheap  \n",
       "1                  10      cheap  \n",
       "2                  80      cheap  \n",
       "3                  15      cheap  \n",
       "4                  15      cheap  \n",
       "5                 200  expensive  \n",
       "6                 200  expensive  \n",
       "7                3000  expensive  \n",
       "8                3000  expensive  "
      ]
     },
     "execution_count": 53,
     "metadata": {},
     "output_type": "execute_result"
    }
   ],
   "source": [
    "f5 = pd.DataFrame(rows5, columns=['facid',\n",
    "'name',\n",
    "'membercost',\n",
    "'guestcost',\n",
    "'initialoutlay',\n",
    "'monthlymaintenance',\n",
    "'type'])\n",
    "f5"
   ]
  },
  {
   "cell_type": "markdown",
   "metadata": {},
   "source": [
    "Q6: You'd like to get the first and last name of the last member(s) who signed up. Try not to use the LIMIT clause for your solution."
   ]
  },
  {
   "cell_type": "code",
   "execution_count": 65,
   "metadata": {},
   "outputs": [
    {
     "data": {
      "text/plain": [
       "<sqlite3.Cursor at 0x7fd106091180>"
      ]
     },
     "execution_count": 65,
     "metadata": {},
     "output_type": "execute_result"
    }
   ],
   "source": [
    "cur6 = conn.cursor()\n",
    "    \n",
    "query6 = \"\"\"\n",
    "SELECT \n",
    "\tfirstname, \n",
    "surname, joindate\n",
    "FROM \n",
    "\tMembers\n",
    "WHERE \n",
    "\tjoindate = (\n",
    "\t\tSELECT MAX(joindate)\n",
    "\t\tFROM Members)\n",
    "    \"\"\"\n",
    "cur6.execute(query6)"
   ]
  },
  {
   "cell_type": "code",
   "execution_count": 63,
   "metadata": {},
   "outputs": [
    {
     "data": {
      "text/plain": [
       "[('Darren', 'Smith', '2012-09-26 18:08:45')]"
      ]
     },
     "execution_count": 63,
     "metadata": {},
     "output_type": "execute_result"
    }
   ],
   "source": [
    "rows6 = cur6.fetchall()\n",
    "rows6"
   ]
  },
  {
   "cell_type": "code",
   "execution_count": 64,
   "metadata": {},
   "outputs": [
    {
     "data": {
      "text/html": [
       "<div>\n",
       "<style scoped>\n",
       "    .dataframe tbody tr th:only-of-type {\n",
       "        vertical-align: middle;\n",
       "    }\n",
       "\n",
       "    .dataframe tbody tr th {\n",
       "        vertical-align: top;\n",
       "    }\n",
       "\n",
       "    .dataframe thead th {\n",
       "        text-align: right;\n",
       "    }\n",
       "</style>\n",
       "<table border=\"1\" class=\"dataframe\">\n",
       "  <thead>\n",
       "    <tr style=\"text-align: right;\">\n",
       "      <th></th>\n",
       "      <th>first name</th>\n",
       "      <th>last name</th>\n",
       "      <th>joindate</th>\n",
       "    </tr>\n",
       "  </thead>\n",
       "  <tbody>\n",
       "    <tr>\n",
       "      <th>0</th>\n",
       "      <td>Darren</td>\n",
       "      <td>Smith</td>\n",
       "      <td>2012-09-26 18:08:45</td>\n",
       "    </tr>\n",
       "  </tbody>\n",
       "</table>\n",
       "</div>"
      ],
      "text/plain": [
       "  first name last name             joindate\n",
       "0     Darren     Smith  2012-09-26 18:08:45"
      ]
     },
     "execution_count": 64,
     "metadata": {},
     "output_type": "execute_result"
    }
   ],
   "source": [
    "f6 = pd.DataFrame(rows6, columns=['first name',\n",
    "                                 'last name',\n",
    "                                 'joindate'])\n",
    "f6"
   ]
  },
  {
   "cell_type": "markdown",
   "metadata": {},
   "source": [
    "Q7: Produce a list of all members who have used a tennis court. Include in your output the name of the court, and the name of the member formatted as a single column. Ensure no duplicate data, and order by\n",
    "the member name."
   ]
  },
  {
   "cell_type": "code",
   "execution_count": 96,
   "metadata": {},
   "outputs": [
    {
     "data": {
      "text/plain": [
       "<sqlite3.Cursor at 0x7fd1060b7030>"
      ]
     },
     "execution_count": 96,
     "metadata": {},
     "output_type": "execute_result"
    }
   ],
   "source": [
    "cur7 = conn.cursor()\n",
    "    \n",
    "query7 = \"\"\"\n",
    "SELECT\n",
    "  F.name\n",
    "  ,M.firstname,M.surname\n",
    "  ,SUM(F.membercost) AS membercost_total\n",
    "FROM \n",
    "  Members M\n",
    "  INNER JOIN Bookings B ON M.memid = B.memid\n",
    "  INNER JOIN Facilities F ON B.facid = F.facid\n",
    "WHERE \n",
    "  F.name like '%Tennis Court%'\n",
    "GROUP BY\n",
    "  F.name\n",
    "  ,M.firstname,M.surname\n",
    "ORDER BY\n",
    "  M.firstname,M.surname\n",
    "    \"\"\"\n",
    "cur7.execute(query7)\n",
    "\n",
    "\n",
    "\n",
    "#CASE?"
   ]
  },
  {
   "cell_type": "code",
   "execution_count": 97,
   "metadata": {},
   "outputs": [
    {
     "data": {
      "text/plain": [
       "[('Tennis Court 1', 'Anne', 'Baker', 30),\n",
       " ('Tennis Court 2', 'Anne', 'Baker', 175),\n",
       " ('Tennis Court 1', 'Burton', 'Tracy', 155),\n",
       " ('Tennis Court 2', 'Burton', 'Tracy', 15),\n",
       " ('Tennis Court 1', 'Charles', 'Owen', 85),\n",
       " ('Tennis Court 2', 'Charles', 'Owen', 205),\n",
       " ('Tennis Court 2', 'Darren', 'Smith', 95),\n",
       " ('Tennis Court 1', 'David', 'Farrell', 30),\n",
       " ('Tennis Court 2', 'David', 'Farrell', 5),\n",
       " ('Tennis Court 1', 'David', 'Jones', 125),\n",
       " ('Tennis Court 2', 'David', 'Jones', 150),\n",
       " ('Tennis Court 1', 'David', 'Pinker', 80),\n",
       " ('Tennis Court 1', 'Douglas', 'Jones', 45),\n",
       " ('Tennis Court 1', 'Erica', 'Crumpet', 5),\n",
       " ('Tennis Court 1', 'Florence', 'Bader', 5),\n",
       " ('Tennis Court 2', 'Florence', 'Bader', 40),\n",
       " ('Tennis Court 1', 'GUEST', 'GUEST', 500),\n",
       " ('Tennis Court 2', 'GUEST', 'GUEST', 565),\n",
       " ('Tennis Court 1', 'Gerald', 'Butters', 285),\n",
       " ('Tennis Court 2', 'Gerald', 'Butters', 15),\n",
       " ('Tennis Court 2', 'Henrietta', 'Rumney', 5),\n",
       " ('Tennis Court 1', 'Jack', 'Smith', 110),\n",
       " ('Tennis Court 2', 'Jack', 'Smith', 5),\n",
       " ('Tennis Court 1', 'Janice', 'Joplette', 95),\n",
       " ('Tennis Court 2', 'Janice', 'Joplette', 40),\n",
       " ('Tennis Court 1', 'Jemima', 'Farrell', 5),\n",
       " ('Tennis Court 2', 'Jemima', 'Farrell', 5),\n",
       " ('Tennis Court 1', 'Joan', 'Coplin', 35),\n",
       " ('Tennis Court 1', 'John', 'Hunt', 20),\n",
       " ('Tennis Court 2', 'John', 'Hunt', 20),\n",
       " ('Tennis Court 1', 'Matthew', 'Genting', 5),\n",
       " ('Tennis Court 2', 'Millicent', 'Purview', 5),\n",
       " ('Tennis Court 1', 'Nancy', 'Dare', 125),\n",
       " ('Tennis Court 2', 'Nancy', 'Dare', 55),\n",
       " ('Tennis Court 1', 'Ponder', 'Stibbons', 5),\n",
       " ('Tennis Court 2', 'Ponder', 'Stibbons', 155),\n",
       " ('Tennis Court 1', 'Ramnaresh', 'Sarwin', 25),\n",
       " ('Tennis Court 2', 'Ramnaresh', 'Sarwin', 55),\n",
       " ('Tennis Court 1', 'Tim', 'Boothe', 20),\n",
       " ('Tennis Court 2', 'Tim', 'Boothe', 260),\n",
       " ('Tennis Court 1', 'Tim', 'Rownam', 30),\n",
       " ('Tennis Court 2', 'Tim', 'Rownam', 30),\n",
       " ('Tennis Court 1', 'Timothy', 'Baker', 70),\n",
       " ('Tennis Court 2', 'Timothy', 'Baker', 35),\n",
       " ('Tennis Court 1', 'Tracy', 'Smith', 150),\n",
       " ('Tennis Court 2', 'Tracy', 'Smith', 10)]"
      ]
     },
     "execution_count": 97,
     "metadata": {},
     "output_type": "execute_result"
    }
   ],
   "source": [
    "rows7 = cur7.fetchall()\n",
    "rows7"
   ]
  },
  {
   "cell_type": "code",
   "execution_count": 101,
   "metadata": {},
   "outputs": [
    {
     "data": {
      "text/html": [
       "<div>\n",
       "<style scoped>\n",
       "    .dataframe tbody tr th:only-of-type {\n",
       "        vertical-align: middle;\n",
       "    }\n",
       "\n",
       "    .dataframe tbody tr th {\n",
       "        vertical-align: top;\n",
       "    }\n",
       "\n",
       "    .dataframe thead th {\n",
       "        text-align: right;\n",
       "    }\n",
       "</style>\n",
       "<table border=\"1\" class=\"dataframe\">\n",
       "  <thead>\n",
       "    <tr style=\"text-align: right;\">\n",
       "      <th></th>\n",
       "      <th>facility</th>\n",
       "      <th>firstname</th>\n",
       "      <th>surname</th>\n",
       "      <th>membercost_total</th>\n",
       "    </tr>\n",
       "  </thead>\n",
       "  <tbody>\n",
       "    <tr>\n",
       "      <th>0</th>\n",
       "      <td>Tennis Court 1</td>\n",
       "      <td>Anne</td>\n",
       "      <td>Baker</td>\n",
       "      <td>30</td>\n",
       "    </tr>\n",
       "    <tr>\n",
       "      <th>1</th>\n",
       "      <td>Tennis Court 2</td>\n",
       "      <td>Anne</td>\n",
       "      <td>Baker</td>\n",
       "      <td>175</td>\n",
       "    </tr>\n",
       "    <tr>\n",
       "      <th>2</th>\n",
       "      <td>Tennis Court 1</td>\n",
       "      <td>Burton</td>\n",
       "      <td>Tracy</td>\n",
       "      <td>155</td>\n",
       "    </tr>\n",
       "    <tr>\n",
       "      <th>3</th>\n",
       "      <td>Tennis Court 2</td>\n",
       "      <td>Burton</td>\n",
       "      <td>Tracy</td>\n",
       "      <td>15</td>\n",
       "    </tr>\n",
       "    <tr>\n",
       "      <th>4</th>\n",
       "      <td>Tennis Court 1</td>\n",
       "      <td>Charles</td>\n",
       "      <td>Owen</td>\n",
       "      <td>85</td>\n",
       "    </tr>\n",
       "    <tr>\n",
       "      <th>5</th>\n",
       "      <td>Tennis Court 2</td>\n",
       "      <td>Charles</td>\n",
       "      <td>Owen</td>\n",
       "      <td>205</td>\n",
       "    </tr>\n",
       "    <tr>\n",
       "      <th>6</th>\n",
       "      <td>Tennis Court 2</td>\n",
       "      <td>Darren</td>\n",
       "      <td>Smith</td>\n",
       "      <td>95</td>\n",
       "    </tr>\n",
       "    <tr>\n",
       "      <th>7</th>\n",
       "      <td>Tennis Court 1</td>\n",
       "      <td>David</td>\n",
       "      <td>Farrell</td>\n",
       "      <td>30</td>\n",
       "    </tr>\n",
       "    <tr>\n",
       "      <th>8</th>\n",
       "      <td>Tennis Court 2</td>\n",
       "      <td>David</td>\n",
       "      <td>Farrell</td>\n",
       "      <td>5</td>\n",
       "    </tr>\n",
       "    <tr>\n",
       "      <th>9</th>\n",
       "      <td>Tennis Court 1</td>\n",
       "      <td>David</td>\n",
       "      <td>Jones</td>\n",
       "      <td>125</td>\n",
       "    </tr>\n",
       "    <tr>\n",
       "      <th>10</th>\n",
       "      <td>Tennis Court 2</td>\n",
       "      <td>David</td>\n",
       "      <td>Jones</td>\n",
       "      <td>150</td>\n",
       "    </tr>\n",
       "    <tr>\n",
       "      <th>11</th>\n",
       "      <td>Tennis Court 1</td>\n",
       "      <td>David</td>\n",
       "      <td>Pinker</td>\n",
       "      <td>80</td>\n",
       "    </tr>\n",
       "    <tr>\n",
       "      <th>12</th>\n",
       "      <td>Tennis Court 1</td>\n",
       "      <td>Douglas</td>\n",
       "      <td>Jones</td>\n",
       "      <td>45</td>\n",
       "    </tr>\n",
       "    <tr>\n",
       "      <th>13</th>\n",
       "      <td>Tennis Court 1</td>\n",
       "      <td>Erica</td>\n",
       "      <td>Crumpet</td>\n",
       "      <td>5</td>\n",
       "    </tr>\n",
       "    <tr>\n",
       "      <th>14</th>\n",
       "      <td>Tennis Court 1</td>\n",
       "      <td>Florence</td>\n",
       "      <td>Bader</td>\n",
       "      <td>5</td>\n",
       "    </tr>\n",
       "    <tr>\n",
       "      <th>15</th>\n",
       "      <td>Tennis Court 2</td>\n",
       "      <td>Florence</td>\n",
       "      <td>Bader</td>\n",
       "      <td>40</td>\n",
       "    </tr>\n",
       "    <tr>\n",
       "      <th>16</th>\n",
       "      <td>Tennis Court 1</td>\n",
       "      <td>GUEST</td>\n",
       "      <td>GUEST</td>\n",
       "      <td>500</td>\n",
       "    </tr>\n",
       "    <tr>\n",
       "      <th>17</th>\n",
       "      <td>Tennis Court 2</td>\n",
       "      <td>GUEST</td>\n",
       "      <td>GUEST</td>\n",
       "      <td>565</td>\n",
       "    </tr>\n",
       "    <tr>\n",
       "      <th>18</th>\n",
       "      <td>Tennis Court 1</td>\n",
       "      <td>Gerald</td>\n",
       "      <td>Butters</td>\n",
       "      <td>285</td>\n",
       "    </tr>\n",
       "    <tr>\n",
       "      <th>19</th>\n",
       "      <td>Tennis Court 2</td>\n",
       "      <td>Gerald</td>\n",
       "      <td>Butters</td>\n",
       "      <td>15</td>\n",
       "    </tr>\n",
       "    <tr>\n",
       "      <th>20</th>\n",
       "      <td>Tennis Court 2</td>\n",
       "      <td>Henrietta</td>\n",
       "      <td>Rumney</td>\n",
       "      <td>5</td>\n",
       "    </tr>\n",
       "    <tr>\n",
       "      <th>21</th>\n",
       "      <td>Tennis Court 1</td>\n",
       "      <td>Jack</td>\n",
       "      <td>Smith</td>\n",
       "      <td>110</td>\n",
       "    </tr>\n",
       "    <tr>\n",
       "      <th>22</th>\n",
       "      <td>Tennis Court 2</td>\n",
       "      <td>Jack</td>\n",
       "      <td>Smith</td>\n",
       "      <td>5</td>\n",
       "    </tr>\n",
       "    <tr>\n",
       "      <th>23</th>\n",
       "      <td>Tennis Court 1</td>\n",
       "      <td>Janice</td>\n",
       "      <td>Joplette</td>\n",
       "      <td>95</td>\n",
       "    </tr>\n",
       "    <tr>\n",
       "      <th>24</th>\n",
       "      <td>Tennis Court 2</td>\n",
       "      <td>Janice</td>\n",
       "      <td>Joplette</td>\n",
       "      <td>40</td>\n",
       "    </tr>\n",
       "    <tr>\n",
       "      <th>25</th>\n",
       "      <td>Tennis Court 1</td>\n",
       "      <td>Jemima</td>\n",
       "      <td>Farrell</td>\n",
       "      <td>5</td>\n",
       "    </tr>\n",
       "    <tr>\n",
       "      <th>26</th>\n",
       "      <td>Tennis Court 2</td>\n",
       "      <td>Jemima</td>\n",
       "      <td>Farrell</td>\n",
       "      <td>5</td>\n",
       "    </tr>\n",
       "    <tr>\n",
       "      <th>27</th>\n",
       "      <td>Tennis Court 1</td>\n",
       "      <td>Joan</td>\n",
       "      <td>Coplin</td>\n",
       "      <td>35</td>\n",
       "    </tr>\n",
       "    <tr>\n",
       "      <th>28</th>\n",
       "      <td>Tennis Court 1</td>\n",
       "      <td>John</td>\n",
       "      <td>Hunt</td>\n",
       "      <td>20</td>\n",
       "    </tr>\n",
       "    <tr>\n",
       "      <th>29</th>\n",
       "      <td>Tennis Court 2</td>\n",
       "      <td>John</td>\n",
       "      <td>Hunt</td>\n",
       "      <td>20</td>\n",
       "    </tr>\n",
       "    <tr>\n",
       "      <th>30</th>\n",
       "      <td>Tennis Court 1</td>\n",
       "      <td>Matthew</td>\n",
       "      <td>Genting</td>\n",
       "      <td>5</td>\n",
       "    </tr>\n",
       "    <tr>\n",
       "      <th>31</th>\n",
       "      <td>Tennis Court 2</td>\n",
       "      <td>Millicent</td>\n",
       "      <td>Purview</td>\n",
       "      <td>5</td>\n",
       "    </tr>\n",
       "    <tr>\n",
       "      <th>32</th>\n",
       "      <td>Tennis Court 1</td>\n",
       "      <td>Nancy</td>\n",
       "      <td>Dare</td>\n",
       "      <td>125</td>\n",
       "    </tr>\n",
       "    <tr>\n",
       "      <th>33</th>\n",
       "      <td>Tennis Court 2</td>\n",
       "      <td>Nancy</td>\n",
       "      <td>Dare</td>\n",
       "      <td>55</td>\n",
       "    </tr>\n",
       "    <tr>\n",
       "      <th>34</th>\n",
       "      <td>Tennis Court 1</td>\n",
       "      <td>Ponder</td>\n",
       "      <td>Stibbons</td>\n",
       "      <td>5</td>\n",
       "    </tr>\n",
       "    <tr>\n",
       "      <th>35</th>\n",
       "      <td>Tennis Court 2</td>\n",
       "      <td>Ponder</td>\n",
       "      <td>Stibbons</td>\n",
       "      <td>155</td>\n",
       "    </tr>\n",
       "    <tr>\n",
       "      <th>36</th>\n",
       "      <td>Tennis Court 1</td>\n",
       "      <td>Ramnaresh</td>\n",
       "      <td>Sarwin</td>\n",
       "      <td>25</td>\n",
       "    </tr>\n",
       "    <tr>\n",
       "      <th>37</th>\n",
       "      <td>Tennis Court 2</td>\n",
       "      <td>Ramnaresh</td>\n",
       "      <td>Sarwin</td>\n",
       "      <td>55</td>\n",
       "    </tr>\n",
       "    <tr>\n",
       "      <th>38</th>\n",
       "      <td>Tennis Court 1</td>\n",
       "      <td>Tim</td>\n",
       "      <td>Boothe</td>\n",
       "      <td>20</td>\n",
       "    </tr>\n",
       "    <tr>\n",
       "      <th>39</th>\n",
       "      <td>Tennis Court 2</td>\n",
       "      <td>Tim</td>\n",
       "      <td>Boothe</td>\n",
       "      <td>260</td>\n",
       "    </tr>\n",
       "    <tr>\n",
       "      <th>40</th>\n",
       "      <td>Tennis Court 1</td>\n",
       "      <td>Tim</td>\n",
       "      <td>Rownam</td>\n",
       "      <td>30</td>\n",
       "    </tr>\n",
       "    <tr>\n",
       "      <th>41</th>\n",
       "      <td>Tennis Court 2</td>\n",
       "      <td>Tim</td>\n",
       "      <td>Rownam</td>\n",
       "      <td>30</td>\n",
       "    </tr>\n",
       "    <tr>\n",
       "      <th>42</th>\n",
       "      <td>Tennis Court 1</td>\n",
       "      <td>Timothy</td>\n",
       "      <td>Baker</td>\n",
       "      <td>70</td>\n",
       "    </tr>\n",
       "    <tr>\n",
       "      <th>43</th>\n",
       "      <td>Tennis Court 2</td>\n",
       "      <td>Timothy</td>\n",
       "      <td>Baker</td>\n",
       "      <td>35</td>\n",
       "    </tr>\n",
       "    <tr>\n",
       "      <th>44</th>\n",
       "      <td>Tennis Court 1</td>\n",
       "      <td>Tracy</td>\n",
       "      <td>Smith</td>\n",
       "      <td>150</td>\n",
       "    </tr>\n",
       "    <tr>\n",
       "      <th>45</th>\n",
       "      <td>Tennis Court 2</td>\n",
       "      <td>Tracy</td>\n",
       "      <td>Smith</td>\n",
       "      <td>10</td>\n",
       "    </tr>\n",
       "  </tbody>\n",
       "</table>\n",
       "</div>"
      ],
      "text/plain": [
       "          facility  firstname   surname  membercost_total\n",
       "0   Tennis Court 1       Anne     Baker                30\n",
       "1   Tennis Court 2       Anne     Baker               175\n",
       "2   Tennis Court 1     Burton     Tracy               155\n",
       "3   Tennis Court 2     Burton     Tracy                15\n",
       "4   Tennis Court 1    Charles      Owen                85\n",
       "5   Tennis Court 2    Charles      Owen               205\n",
       "6   Tennis Court 2     Darren     Smith                95\n",
       "7   Tennis Court 1      David   Farrell                30\n",
       "8   Tennis Court 2      David   Farrell                 5\n",
       "9   Tennis Court 1      David     Jones               125\n",
       "10  Tennis Court 2      David     Jones               150\n",
       "11  Tennis Court 1      David    Pinker                80\n",
       "12  Tennis Court 1    Douglas     Jones                45\n",
       "13  Tennis Court 1      Erica   Crumpet                 5\n",
       "14  Tennis Court 1   Florence     Bader                 5\n",
       "15  Tennis Court 2   Florence     Bader                40\n",
       "16  Tennis Court 1      GUEST     GUEST               500\n",
       "17  Tennis Court 2      GUEST     GUEST               565\n",
       "18  Tennis Court 1     Gerald   Butters               285\n",
       "19  Tennis Court 2     Gerald   Butters                15\n",
       "20  Tennis Court 2  Henrietta    Rumney                 5\n",
       "21  Tennis Court 1       Jack     Smith               110\n",
       "22  Tennis Court 2       Jack     Smith                 5\n",
       "23  Tennis Court 1     Janice  Joplette                95\n",
       "24  Tennis Court 2     Janice  Joplette                40\n",
       "25  Tennis Court 1     Jemima   Farrell                 5\n",
       "26  Tennis Court 2     Jemima   Farrell                 5\n",
       "27  Tennis Court 1       Joan    Coplin                35\n",
       "28  Tennis Court 1       John      Hunt                20\n",
       "29  Tennis Court 2       John      Hunt                20\n",
       "30  Tennis Court 1    Matthew   Genting                 5\n",
       "31  Tennis Court 2  Millicent   Purview                 5\n",
       "32  Tennis Court 1      Nancy      Dare               125\n",
       "33  Tennis Court 2      Nancy      Dare                55\n",
       "34  Tennis Court 1     Ponder  Stibbons                 5\n",
       "35  Tennis Court 2     Ponder  Stibbons               155\n",
       "36  Tennis Court 1  Ramnaresh    Sarwin                25\n",
       "37  Tennis Court 2  Ramnaresh    Sarwin                55\n",
       "38  Tennis Court 1        Tim    Boothe                20\n",
       "39  Tennis Court 2        Tim    Boothe               260\n",
       "40  Tennis Court 1        Tim    Rownam                30\n",
       "41  Tennis Court 2        Tim    Rownam                30\n",
       "42  Tennis Court 1    Timothy     Baker                70\n",
       "43  Tennis Court 2    Timothy     Baker                35\n",
       "44  Tennis Court 1      Tracy     Smith               150\n",
       "45  Tennis Court 2      Tracy     Smith                10"
      ]
     },
     "execution_count": 101,
     "metadata": {},
     "output_type": "execute_result"
    }
   ],
   "source": [
    "f7 = pd.DataFrame(rows7, columns=['facility',\n",
    "'firstname',\n",
    "'surname',\n",
    "'membercost_total'])\n",
    "f7"
   ]
  },
  {
   "cell_type": "markdown",
   "metadata": {},
   "source": [
    "Q8: Produce a list of bookings on the day of 2012-09-14 which will cost the member (or guest) more than $30. Remember that guests have different costs to members (the listed costs are per half-hour 'slot'), and the guest user's ID is always 0. Include in your output the name of the facility, the name of the member formatted as a single column, and the cost. Order by descending cost, and do not use any subqueries."
   ]
  },
  {
   "cell_type": "code",
   "execution_count": 80,
   "metadata": {},
   "outputs": [
    {
     "data": {
      "text/plain": [
       "<sqlite3.Cursor at 0x7fd1060b7180>"
      ]
     },
     "execution_count": 80,
     "metadata": {},
     "output_type": "execute_result"
    }
   ],
   "source": [
    "cur8 = conn.cursor()\n",
    "    \n",
    "query8 = \"\"\"\n",
    "SELECT\n",
    "\tstarttime,\n",
    "\tmonthlymaintenance,\n",
    "\tguestcost,\n",
    "\tb.facid,\n",
    "    f.facid\n",
    "FROM \n",
    "\tBookings AS b\n",
    "\t\tINNER JOIN\n",
    "\t\t\tFacilities AS f\n",
    "\t\t\t\tON b.facid = f.facid\n",
    "WHERE\n",
    "\tstarttime LIKE '2012-09-14%'AND \n",
    "\t(monthlymaintenance > 30 OR \n",
    "\tguestcost > 30);\n",
    "    \"\"\"\n",
    "cur8.execute(query8)"
   ]
  },
  {
   "cell_type": "code",
   "execution_count": 81,
   "metadata": {},
   "outputs": [
    {
     "data": {
      "text/plain": [
       "[('2012-09-14 08:00:00', 200, 25, 0, 0),\n",
       " ('2012-09-14 10:00:00', 200, 25, 0, 0),\n",
       " ('2012-09-14 12:30:00', 200, 25, 0, 0),\n",
       " ('2012-09-14 14:00:00', 200, 25, 0, 0),\n",
       " ('2012-09-14 16:00:00', 200, 25, 0, 0),\n",
       " ('2012-09-14 17:30:00', 200, 25, 0, 0),\n",
       " ('2012-09-14 19:00:00', 200, 25, 0, 0),\n",
       " ('2012-09-14 08:00:00', 200, 25, 1, 1),\n",
       " ('2012-09-14 11:00:00', 200, 25, 1, 1),\n",
       " ('2012-09-14 14:00:00', 200, 25, 1, 1),\n",
       " ('2012-09-14 17:00:00', 200, 25, 1, 1),\n",
       " ('2012-09-14 08:00:00', 50, 15.5, 2, 2),\n",
       " ('2012-09-14 11:00:00', 50, 15.5, 2, 2),\n",
       " ('2012-09-14 13:00:00', 50, 15.5, 2, 2),\n",
       " ('2012-09-14 16:00:00', 50, 15.5, 2, 2),\n",
       " ('2012-09-14 18:00:00', 50, 15.5, 2, 2),\n",
       " ('2012-09-14 08:00:00', 3000, 80, 4, 4),\n",
       " ('2012-09-14 09:00:00', 3000, 80, 4, 4),\n",
       " ('2012-09-14 11:00:00', 3000, 80, 4, 4),\n",
       " ('2012-09-14 12:00:00', 3000, 80, 4, 4),\n",
       " ('2012-09-14 13:00:00', 3000, 80, 4, 4),\n",
       " ('2012-09-14 14:00:00', 3000, 80, 4, 4),\n",
       " ('2012-09-14 16:00:00', 3000, 80, 4, 4),\n",
       " ('2012-09-14 18:00:00', 3000, 80, 4, 4),\n",
       " ('2012-09-14 19:00:00', 3000, 80, 4, 4),\n",
       " ('2012-09-14 09:30:00', 3000, 80, 5, 5),\n",
       " ('2012-09-14 11:00:00', 3000, 80, 5, 5),\n",
       " ('2012-09-14 08:30:00', 80, 17.5, 6, 6),\n",
       " ('2012-09-14 09:30:00', 80, 17.5, 6, 6),\n",
       " ('2012-09-14 12:30:00', 80, 17.5, 6, 6),\n",
       " ('2012-09-14 14:00:00', 80, 17.5, 6, 6),\n",
       " ('2012-09-14 15:00:00', 80, 17.5, 6, 6),\n",
       " ('2012-09-14 16:00:00', 80, 17.5, 6, 6),\n",
       " ('2012-09-14 17:30:00', 80, 17.5, 6, 6)]"
      ]
     },
     "execution_count": 81,
     "metadata": {},
     "output_type": "execute_result"
    }
   ],
   "source": [
    "rows8 = cur8.fetchall()\n",
    "rows8"
   ]
  },
  {
   "cell_type": "code",
   "execution_count": 84,
   "metadata": {},
   "outputs": [
    {
     "data": {
      "text/html": [
       "<div>\n",
       "<style scoped>\n",
       "    .dataframe tbody tr th:only-of-type {\n",
       "        vertical-align: middle;\n",
       "    }\n",
       "\n",
       "    .dataframe tbody tr th {\n",
       "        vertical-align: top;\n",
       "    }\n",
       "\n",
       "    .dataframe thead th {\n",
       "        text-align: right;\n",
       "    }\n",
       "</style>\n",
       "<table border=\"1\" class=\"dataframe\">\n",
       "  <thead>\n",
       "    <tr style=\"text-align: right;\">\n",
       "      <th></th>\n",
       "      <th>starttime</th>\n",
       "      <th>monthlymaintenance</th>\n",
       "      <th>guestcost</th>\n",
       "      <th>facid</th>\n",
       "      <th>facid</th>\n",
       "    </tr>\n",
       "  </thead>\n",
       "  <tbody>\n",
       "    <tr>\n",
       "      <th>0</th>\n",
       "      <td>2012-09-14 08:00:00</td>\n",
       "      <td>200</td>\n",
       "      <td>25.0</td>\n",
       "      <td>0</td>\n",
       "      <td>0</td>\n",
       "    </tr>\n",
       "    <tr>\n",
       "      <th>1</th>\n",
       "      <td>2012-09-14 10:00:00</td>\n",
       "      <td>200</td>\n",
       "      <td>25.0</td>\n",
       "      <td>0</td>\n",
       "      <td>0</td>\n",
       "    </tr>\n",
       "    <tr>\n",
       "      <th>2</th>\n",
       "      <td>2012-09-14 12:30:00</td>\n",
       "      <td>200</td>\n",
       "      <td>25.0</td>\n",
       "      <td>0</td>\n",
       "      <td>0</td>\n",
       "    </tr>\n",
       "    <tr>\n",
       "      <th>3</th>\n",
       "      <td>2012-09-14 14:00:00</td>\n",
       "      <td>200</td>\n",
       "      <td>25.0</td>\n",
       "      <td>0</td>\n",
       "      <td>0</td>\n",
       "    </tr>\n",
       "    <tr>\n",
       "      <th>4</th>\n",
       "      <td>2012-09-14 16:00:00</td>\n",
       "      <td>200</td>\n",
       "      <td>25.0</td>\n",
       "      <td>0</td>\n",
       "      <td>0</td>\n",
       "    </tr>\n",
       "  </tbody>\n",
       "</table>\n",
       "</div>"
      ],
      "text/plain": [
       "             starttime  monthlymaintenance  guestcost  facid  facid\n",
       "0  2012-09-14 08:00:00                 200       25.0      0      0\n",
       "1  2012-09-14 10:00:00                 200       25.0      0      0\n",
       "2  2012-09-14 12:30:00                 200       25.0      0      0\n",
       "3  2012-09-14 14:00:00                 200       25.0      0      0\n",
       "4  2012-09-14 16:00:00                 200       25.0      0      0"
      ]
     },
     "execution_count": 84,
     "metadata": {},
     "output_type": "execute_result"
    }
   ],
   "source": [
    "f8 = pd.DataFrame(rows8, columns=['starttime',\n",
    "'monthlymaintenance',\n",
    "'guestcost',\n",
    "'facid',\n",
    "'facid'])\n",
    "f8.head()"
   ]
  },
  {
   "cell_type": "markdown",
   "metadata": {},
   "source": [
    "Q9: This time, produce the same result as in Q8, but using a subquery."
   ]
  },
  {
   "cell_type": "code",
   "execution_count": 90,
   "metadata": {},
   "outputs": [
    {
     "data": {
      "text/plain": [
       "<sqlite3.Cursor at 0x7fd106091ab0>"
      ]
     },
     "execution_count": 90,
     "metadata": {},
     "output_type": "execute_result"
    }
   ],
   "source": [
    "cur9 = conn.cursor()\n",
    "    \n",
    "query9 = \"\"\"\n",
    "SELECT*\n",
    "FROM(SELECT\n",
    "\tstarttime,\n",
    "\tmonthlymaintenance,\n",
    "\tguestcost,\n",
    "\tb.facid,\n",
    "    f.facid\n",
    "FROM \n",
    "\tBookings AS b\n",
    "\t\tINNER JOIN\n",
    "\t\t\tFacilities AS f\n",
    "\t\t\t\tON b.facid = f.facid\n",
    "WHERE\n",
    "\tstarttime LIKE '2012-09-14%'AND \n",
    "\t(monthlymaintenance > 30 OR \n",
    "\tguestcost > 30))\n",
    "    \"\"\"\n",
    "cur9.execute(query9)"
   ]
  },
  {
   "cell_type": "code",
   "execution_count": 95,
   "metadata": {},
   "outputs": [],
   "source": [
    "rows9 = cur9.fetchall()"
   ]
  },
  {
   "cell_type": "code",
   "execution_count": 93,
   "metadata": {},
   "outputs": [
    {
     "data": {
      "text/html": [
       "<div>\n",
       "<style scoped>\n",
       "    .dataframe tbody tr th:only-of-type {\n",
       "        vertical-align: middle;\n",
       "    }\n",
       "\n",
       "    .dataframe tbody tr th {\n",
       "        vertical-align: top;\n",
       "    }\n",
       "\n",
       "    .dataframe thead th {\n",
       "        text-align: right;\n",
       "    }\n",
       "</style>\n",
       "<table border=\"1\" class=\"dataframe\">\n",
       "  <thead>\n",
       "    <tr style=\"text-align: right;\">\n",
       "      <th></th>\n",
       "      <th>starttime</th>\n",
       "      <th>monthlymaintenance</th>\n",
       "      <th>guestcost</th>\n",
       "      <th>facid</th>\n",
       "      <th>facid</th>\n",
       "    </tr>\n",
       "  </thead>\n",
       "  <tbody>\n",
       "    <tr>\n",
       "      <th>0</th>\n",
       "      <td>2012-09-14 08:00:00</td>\n",
       "      <td>200</td>\n",
       "      <td>25.0</td>\n",
       "      <td>0</td>\n",
       "      <td>0</td>\n",
       "    </tr>\n",
       "    <tr>\n",
       "      <th>1</th>\n",
       "      <td>2012-09-14 10:00:00</td>\n",
       "      <td>200</td>\n",
       "      <td>25.0</td>\n",
       "      <td>0</td>\n",
       "      <td>0</td>\n",
       "    </tr>\n",
       "    <tr>\n",
       "      <th>2</th>\n",
       "      <td>2012-09-14 12:30:00</td>\n",
       "      <td>200</td>\n",
       "      <td>25.0</td>\n",
       "      <td>0</td>\n",
       "      <td>0</td>\n",
       "    </tr>\n",
       "    <tr>\n",
       "      <th>3</th>\n",
       "      <td>2012-09-14 14:00:00</td>\n",
       "      <td>200</td>\n",
       "      <td>25.0</td>\n",
       "      <td>0</td>\n",
       "      <td>0</td>\n",
       "    </tr>\n",
       "    <tr>\n",
       "      <th>4</th>\n",
       "      <td>2012-09-14 16:00:00</td>\n",
       "      <td>200</td>\n",
       "      <td>25.0</td>\n",
       "      <td>0</td>\n",
       "      <td>0</td>\n",
       "    </tr>\n",
       "  </tbody>\n",
       "</table>\n",
       "</div>"
      ],
      "text/plain": [
       "             starttime  monthlymaintenance  guestcost  facid  facid\n",
       "0  2012-09-14 08:00:00                 200       25.0      0      0\n",
       "1  2012-09-14 10:00:00                 200       25.0      0      0\n",
       "2  2012-09-14 12:30:00                 200       25.0      0      0\n",
       "3  2012-09-14 14:00:00                 200       25.0      0      0\n",
       "4  2012-09-14 16:00:00                 200       25.0      0      0"
      ]
     },
     "execution_count": 93,
     "metadata": {},
     "output_type": "execute_result"
    }
   ],
   "source": [
    "f9 = pd.DataFrame(rows9, columns=['starttime',\n",
    "'monthlymaintenance',\n",
    "'guestcost',\n",
    "'facid',\n",
    "'facid'])\n",
    "f9.head()"
   ]
  },
  {
   "cell_type": "markdown",
   "metadata": {},
   "source": [
    "Q10: Produce a list of facilities with a total revenue less than 1000. The output of facility name and total revenue, sorted by revenue. Remember that there's a different cost for guests and members!"
   ]
  },
  {
   "cell_type": "code",
   "execution_count": 102,
   "metadata": {},
   "outputs": [
    {
     "data": {
      "text/plain": [
       "<sqlite3.Cursor at 0x7fd1060b7b20>"
      ]
     },
     "execution_count": 102,
     "metadata": {},
     "output_type": "execute_result"
    }
   ],
   "source": [
    "cur10 = conn.cursor()\n",
    "    \n",
    "query10 = \"\"\"\n",
    "\n",
    "SELECT\n",
    "\tname,\n",
    "\t(monthlymaintenance + membercost) AS revenue\n",
    "FROM \n",
    "  Facilities \n",
    "WHERE\n",
    "\tmonthlymaintenance + membercost < 1000\n",
    "ORDER BY \n",
    "\tmonthlymaintenance + membercost DESC\n",
    "    \"\"\"\n",
    "cur10.execute(query10)"
   ]
  },
  {
   "cell_type": "code",
   "execution_count": 104,
   "metadata": {},
   "outputs": [
    {
     "data": {
      "text/plain": [
       "[('Tennis Court 1', 205),\n",
       " ('Tennis Court 2', 205),\n",
       " ('Squash Court', 83.5),\n",
       " ('Badminton Court', 50),\n",
       " ('Snooker Table', 15),\n",
       " ('Pool Table', 15),\n",
       " ('Table Tennis', 10)]"
      ]
     },
     "execution_count": 104,
     "metadata": {},
     "output_type": "execute_result"
    }
   ],
   "source": [
    "rows10 = cur10.fetchall()\n",
    "rows10"
   ]
  },
  {
   "cell_type": "code",
   "execution_count": 106,
   "metadata": {},
   "outputs": [
    {
     "data": {
      "text/html": [
       "<div>\n",
       "<style scoped>\n",
       "    .dataframe tbody tr th:only-of-type {\n",
       "        vertical-align: middle;\n",
       "    }\n",
       "\n",
       "    .dataframe tbody tr th {\n",
       "        vertical-align: top;\n",
       "    }\n",
       "\n",
       "    .dataframe thead th {\n",
       "        text-align: right;\n",
       "    }\n",
       "</style>\n",
       "<table border=\"1\" class=\"dataframe\">\n",
       "  <thead>\n",
       "    <tr style=\"text-align: right;\">\n",
       "      <th></th>\n",
       "      <th>facility</th>\n",
       "      <th>revenue</th>\n",
       "    </tr>\n",
       "  </thead>\n",
       "  <tbody>\n",
       "    <tr>\n",
       "      <th>0</th>\n",
       "      <td>Tennis Court 1</td>\n",
       "      <td>205.0</td>\n",
       "    </tr>\n",
       "    <tr>\n",
       "      <th>1</th>\n",
       "      <td>Tennis Court 2</td>\n",
       "      <td>205.0</td>\n",
       "    </tr>\n",
       "    <tr>\n",
       "      <th>2</th>\n",
       "      <td>Squash Court</td>\n",
       "      <td>83.5</td>\n",
       "    </tr>\n",
       "    <tr>\n",
       "      <th>3</th>\n",
       "      <td>Badminton Court</td>\n",
       "      <td>50.0</td>\n",
       "    </tr>\n",
       "    <tr>\n",
       "      <th>4</th>\n",
       "      <td>Snooker Table</td>\n",
       "      <td>15.0</td>\n",
       "    </tr>\n",
       "    <tr>\n",
       "      <th>5</th>\n",
       "      <td>Pool Table</td>\n",
       "      <td>15.0</td>\n",
       "    </tr>\n",
       "    <tr>\n",
       "      <th>6</th>\n",
       "      <td>Table Tennis</td>\n",
       "      <td>10.0</td>\n",
       "    </tr>\n",
       "  </tbody>\n",
       "</table>\n",
       "</div>"
      ],
      "text/plain": [
       "          facility  revenue\n",
       "0   Tennis Court 1    205.0\n",
       "1   Tennis Court 2    205.0\n",
       "2     Squash Court     83.5\n",
       "3  Badminton Court     50.0\n",
       "4    Snooker Table     15.0\n",
       "5       Pool Table     15.0\n",
       "6     Table Tennis     10.0"
      ]
     },
     "execution_count": 106,
     "metadata": {},
     "output_type": "execute_result"
    }
   ],
   "source": [
    "f10 = pd.DataFrame(rows10, columns=['facility', 'revenue'])\n",
    "f10"
   ]
  },
  {
   "cell_type": "markdown",
   "metadata": {},
   "source": [
    "Q11: Produce a report of members and who recommended them in alphabetic surname,firstname order"
   ]
  },
  {
   "cell_type": "code",
   "execution_count": 116,
   "metadata": {},
   "outputs": [
    {
     "data": {
      "text/plain": [
       "<sqlite3.Cursor at 0x7fd1060f9500>"
      ]
     },
     "execution_count": 116,
     "metadata": {},
     "output_type": "execute_result"
    }
   ],
   "source": [
    "cur11 = conn.cursor()\n",
    "    \n",
    "query11 = \"\"\"\n",
    "SELECT \n",
    "    m.surname, \n",
    "    m.firstname, \n",
    "    m.recommendedby AS recomender_id, \n",
    "    r.surname AS recomender_lastname, \n",
    "    r.firstname AS recomender_firstname\n",
    "FROM Members AS m\n",
    "LEFT JOIN Members AS r ON m.recommendedby = r.memid\n",
    "WHERE m.recommendedby != 0\n",
    "ORDER BY r.surname, r.firstname;\n",
    "    \"\"\"\n",
    "cur11.execute(query11)"
   ]
  },
  {
   "cell_type": "code",
   "execution_count": 117,
   "metadata": {},
   "outputs": [],
   "source": [
    "rows11 = cur11.fetchall()"
   ]
  },
  {
   "cell_type": "code",
   "execution_count": 115,
   "metadata": {},
   "outputs": [
    {
     "data": {
      "text/html": [
       "<div>\n",
       "<style scoped>\n",
       "    .dataframe tbody tr th:only-of-type {\n",
       "        vertical-align: middle;\n",
       "    }\n",
       "\n",
       "    .dataframe tbody tr th {\n",
       "        vertical-align: top;\n",
       "    }\n",
       "\n",
       "    .dataframe thead th {\n",
       "        text-align: right;\n",
       "    }\n",
       "</style>\n",
       "<table border=\"1\" class=\"dataframe\">\n",
       "  <thead>\n",
       "    <tr style=\"text-align: right;\">\n",
       "      <th></th>\n",
       "      <th>lastname</th>\n",
       "      <th>firstname</th>\n",
       "      <th>recomender_id</th>\n",
       "      <th>recomender_surname</th>\n",
       "      <th>recomender_firstname</th>\n",
       "    </tr>\n",
       "  </thead>\n",
       "  <tbody>\n",
       "    <tr>\n",
       "      <th>0</th>\n",
       "      <td>GUEST</td>\n",
       "      <td>GUEST</td>\n",
       "      <td></td>\n",
       "      <td>None</td>\n",
       "      <td>None</td>\n",
       "    </tr>\n",
       "    <tr>\n",
       "      <th>1</th>\n",
       "      <td>Smith</td>\n",
       "      <td>Darren</td>\n",
       "      <td></td>\n",
       "      <td>None</td>\n",
       "      <td>None</td>\n",
       "    </tr>\n",
       "    <tr>\n",
       "      <th>2</th>\n",
       "      <td>Smith</td>\n",
       "      <td>Tracy</td>\n",
       "      <td></td>\n",
       "      <td>None</td>\n",
       "      <td>None</td>\n",
       "    </tr>\n",
       "    <tr>\n",
       "      <th>3</th>\n",
       "      <td>Rownam</td>\n",
       "      <td>Tim</td>\n",
       "      <td></td>\n",
       "      <td>None</td>\n",
       "      <td>None</td>\n",
       "    </tr>\n",
       "    <tr>\n",
       "      <th>4</th>\n",
       "      <td>Tracy</td>\n",
       "      <td>Burton</td>\n",
       "      <td></td>\n",
       "      <td>None</td>\n",
       "      <td>None</td>\n",
       "    </tr>\n",
       "    <tr>\n",
       "      <th>5</th>\n",
       "      <td>Farrell</td>\n",
       "      <td>Jemima</td>\n",
       "      <td></td>\n",
       "      <td>None</td>\n",
       "      <td>None</td>\n",
       "    </tr>\n",
       "    <tr>\n",
       "      <th>6</th>\n",
       "      <td>Farrell</td>\n",
       "      <td>David</td>\n",
       "      <td></td>\n",
       "      <td>None</td>\n",
       "      <td>None</td>\n",
       "    </tr>\n",
       "    <tr>\n",
       "      <th>7</th>\n",
       "      <td>Tupperware</td>\n",
       "      <td>Hyacinth</td>\n",
       "      <td></td>\n",
       "      <td>None</td>\n",
       "      <td>None</td>\n",
       "    </tr>\n",
       "    <tr>\n",
       "      <th>8</th>\n",
       "      <td>Smith</td>\n",
       "      <td>Darren</td>\n",
       "      <td></td>\n",
       "      <td>None</td>\n",
       "      <td>None</td>\n",
       "    </tr>\n",
       "    <tr>\n",
       "      <th>9</th>\n",
       "      <td>Sarwin</td>\n",
       "      <td>Ramnaresh</td>\n",
       "      <td>15</td>\n",
       "      <td>Bader</td>\n",
       "      <td>Florence</td>\n",
       "    </tr>\n",
       "    <tr>\n",
       "      <th>10</th>\n",
       "      <td>Coplin</td>\n",
       "      <td>Joan</td>\n",
       "      <td>16</td>\n",
       "      <td>Baker</td>\n",
       "      <td>Timothy</td>\n",
       "    </tr>\n",
       "    <tr>\n",
       "      <th>11</th>\n",
       "      <td>Genting</td>\n",
       "      <td>Matthew</td>\n",
       "      <td>5</td>\n",
       "      <td>Butters</td>\n",
       "      <td>Gerald</td>\n",
       "    </tr>\n",
       "    <tr>\n",
       "      <th>12</th>\n",
       "      <td>Baker</td>\n",
       "      <td>Timothy</td>\n",
       "      <td>13</td>\n",
       "      <td>Farrell</td>\n",
       "      <td>Jemima</td>\n",
       "    </tr>\n",
       "    <tr>\n",
       "      <th>13</th>\n",
       "      <td>Pinker</td>\n",
       "      <td>David</td>\n",
       "      <td>13</td>\n",
       "      <td>Farrell</td>\n",
       "      <td>Jemima</td>\n",
       "    </tr>\n",
       "    <tr>\n",
       "      <th>14</th>\n",
       "      <td>Rumney</td>\n",
       "      <td>Henrietta</td>\n",
       "      <td>20</td>\n",
       "      <td>Genting</td>\n",
       "      <td>Matthew</td>\n",
       "    </tr>\n",
       "    <tr>\n",
       "      <th>15</th>\n",
       "      <td>Jones</td>\n",
       "      <td>Douglas</td>\n",
       "      <td>11</td>\n",
       "      <td>Jones</td>\n",
       "      <td>David</td>\n",
       "    </tr>\n",
       "    <tr>\n",
       "      <th>16</th>\n",
       "      <td>Dare</td>\n",
       "      <td>Nancy</td>\n",
       "      <td>4</td>\n",
       "      <td>Joplette</td>\n",
       "      <td>Janice</td>\n",
       "    </tr>\n",
       "    <tr>\n",
       "      <th>17</th>\n",
       "      <td>Jones</td>\n",
       "      <td>David</td>\n",
       "      <td>4</td>\n",
       "      <td>Joplette</td>\n",
       "      <td>Janice</td>\n",
       "    </tr>\n",
       "    <tr>\n",
       "      <th>18</th>\n",
       "      <td>Hunt</td>\n",
       "      <td>John</td>\n",
       "      <td>30</td>\n",
       "      <td>Purview</td>\n",
       "      <td>Millicent</td>\n",
       "    </tr>\n",
       "    <tr>\n",
       "      <th>19</th>\n",
       "      <td>Boothe</td>\n",
       "      <td>Tim</td>\n",
       "      <td>3</td>\n",
       "      <td>Rownam</td>\n",
       "      <td>Tim</td>\n",
       "    </tr>\n",
       "    <tr>\n",
       "      <th>20</th>\n",
       "      <td>Worthington-Smyth</td>\n",
       "      <td>Henry</td>\n",
       "      <td>2</td>\n",
       "      <td>Smith</td>\n",
       "      <td>Tracy</td>\n",
       "    </tr>\n",
       "    <tr>\n",
       "      <th>21</th>\n",
       "      <td>Purview</td>\n",
       "      <td>Millicent</td>\n",
       "      <td>2</td>\n",
       "      <td>Smith</td>\n",
       "      <td>Tracy</td>\n",
       "    </tr>\n",
       "    <tr>\n",
       "      <th>22</th>\n",
       "      <td>Crumpet</td>\n",
       "      <td>Erica</td>\n",
       "      <td>2</td>\n",
       "      <td>Smith</td>\n",
       "      <td>Tracy</td>\n",
       "    </tr>\n",
       "    <tr>\n",
       "      <th>23</th>\n",
       "      <td>Joplette</td>\n",
       "      <td>Janice</td>\n",
       "      <td>1</td>\n",
       "      <td>Smith</td>\n",
       "      <td>Darren</td>\n",
       "    </tr>\n",
       "    <tr>\n",
       "      <th>24</th>\n",
       "      <td>Butters</td>\n",
       "      <td>Gerald</td>\n",
       "      <td>1</td>\n",
       "      <td>Smith</td>\n",
       "      <td>Darren</td>\n",
       "    </tr>\n",
       "    <tr>\n",
       "      <th>25</th>\n",
       "      <td>Owen</td>\n",
       "      <td>Charles</td>\n",
       "      <td>1</td>\n",
       "      <td>Smith</td>\n",
       "      <td>Darren</td>\n",
       "    </tr>\n",
       "    <tr>\n",
       "      <th>26</th>\n",
       "      <td>Smith</td>\n",
       "      <td>Jack</td>\n",
       "      <td>1</td>\n",
       "      <td>Smith</td>\n",
       "      <td>Darren</td>\n",
       "    </tr>\n",
       "    <tr>\n",
       "      <th>27</th>\n",
       "      <td>Mackenzie</td>\n",
       "      <td>Anna</td>\n",
       "      <td>1</td>\n",
       "      <td>Smith</td>\n",
       "      <td>Darren</td>\n",
       "    </tr>\n",
       "    <tr>\n",
       "      <th>28</th>\n",
       "      <td>Baker</td>\n",
       "      <td>Anne</td>\n",
       "      <td>9</td>\n",
       "      <td>Stibbons</td>\n",
       "      <td>Ponder</td>\n",
       "    </tr>\n",
       "    <tr>\n",
       "      <th>29</th>\n",
       "      <td>Bader</td>\n",
       "      <td>Florence</td>\n",
       "      <td>9</td>\n",
       "      <td>Stibbons</td>\n",
       "      <td>Ponder</td>\n",
       "    </tr>\n",
       "    <tr>\n",
       "      <th>30</th>\n",
       "      <td>Stibbons</td>\n",
       "      <td>Ponder</td>\n",
       "      <td>6</td>\n",
       "      <td>Tracy</td>\n",
       "      <td>Burton</td>\n",
       "    </tr>\n",
       "  </tbody>\n",
       "</table>\n",
       "</div>"
      ],
      "text/plain": [
       "             lastname  firstname recomender_id recomender_surname  \\\n",
       "0               GUEST      GUEST                             None   \n",
       "1               Smith     Darren                             None   \n",
       "2               Smith      Tracy                             None   \n",
       "3              Rownam        Tim                             None   \n",
       "4               Tracy     Burton                             None   \n",
       "5             Farrell     Jemima                             None   \n",
       "6             Farrell      David                             None   \n",
       "7          Tupperware   Hyacinth                             None   \n",
       "8               Smith     Darren                             None   \n",
       "9              Sarwin  Ramnaresh            15              Bader   \n",
       "10             Coplin       Joan            16              Baker   \n",
       "11            Genting    Matthew             5            Butters   \n",
       "12              Baker    Timothy            13            Farrell   \n",
       "13             Pinker      David            13            Farrell   \n",
       "14             Rumney  Henrietta            20            Genting   \n",
       "15              Jones    Douglas            11              Jones   \n",
       "16               Dare      Nancy             4           Joplette   \n",
       "17              Jones      David             4           Joplette   \n",
       "18               Hunt       John            30            Purview   \n",
       "19             Boothe        Tim             3             Rownam   \n",
       "20  Worthington-Smyth      Henry             2              Smith   \n",
       "21            Purview  Millicent             2              Smith   \n",
       "22            Crumpet      Erica             2              Smith   \n",
       "23           Joplette     Janice             1              Smith   \n",
       "24            Butters     Gerald             1              Smith   \n",
       "25               Owen    Charles             1              Smith   \n",
       "26              Smith       Jack             1              Smith   \n",
       "27          Mackenzie       Anna             1              Smith   \n",
       "28              Baker       Anne             9           Stibbons   \n",
       "29              Bader   Florence             9           Stibbons   \n",
       "30           Stibbons     Ponder             6              Tracy   \n",
       "\n",
       "   recomender_firstname  \n",
       "0                  None  \n",
       "1                  None  \n",
       "2                  None  \n",
       "3                  None  \n",
       "4                  None  \n",
       "5                  None  \n",
       "6                  None  \n",
       "7                  None  \n",
       "8                  None  \n",
       "9              Florence  \n",
       "10              Timothy  \n",
       "11               Gerald  \n",
       "12               Jemima  \n",
       "13               Jemima  \n",
       "14              Matthew  \n",
       "15                David  \n",
       "16               Janice  \n",
       "17               Janice  \n",
       "18            Millicent  \n",
       "19                  Tim  \n",
       "20                Tracy  \n",
       "21                Tracy  \n",
       "22                Tracy  \n",
       "23               Darren  \n",
       "24               Darren  \n",
       "25               Darren  \n",
       "26               Darren  \n",
       "27               Darren  \n",
       "28               Ponder  \n",
       "29               Ponder  \n",
       "30               Burton  "
      ]
     },
     "execution_count": 115,
     "metadata": {},
     "output_type": "execute_result"
    }
   ],
   "source": [
    "f11 = pd.DataFrame(rows11, columns=['lastname',\n",
    "'firstname',\n",
    "'recomender_id',\n",
    "'recomender_surname',\n",
    "'recomender_firstname'])\n",
    "f11"
   ]
  },
  {
   "cell_type": "markdown",
   "metadata": {},
   "source": [
    "Q12: Find the facilities with their usage by member, but not guests"
   ]
  },
  {
   "cell_type": "code",
   "execution_count": 123,
   "metadata": {},
   "outputs": [
    {
     "data": {
      "text/plain": [
       "<sqlite3.Cursor at 0x7fd1060912d0>"
      ]
     },
     "execution_count": 123,
     "metadata": {},
     "output_type": "execute_result"
    }
   ],
   "source": [
    "cur12 = conn.cursor()\n",
    "    \n",
    "query12 = \"\"\"\n",
    "SELECT \n",
    "    b.facid, \n",
    "    COUNT( b.memid ) \n",
    "    AS mem_usage, \n",
    "    f.name\n",
    "FROM (SELECT \n",
    "        facid, \n",
    "        memid\n",
    "FROM Bookings\n",
    "WHERE memid !=0) AS b\n",
    "LEFT JOIN \n",
    "    Facilities AS f \n",
    "ON b.facid = f.facid\n",
    "GROUP BY b.facid;\n",
    "    \"\"\"\n",
    "cur12.execute(query12)"
   ]
  },
  {
   "cell_type": "code",
   "execution_count": 124,
   "metadata": {},
   "outputs": [
    {
     "data": {
      "text/plain": [
       "[(0, 308, 'Tennis Court 1'),\n",
       " (1, 276, 'Tennis Court 2'),\n",
       " (2, 344, 'Badminton Court'),\n",
       " (3, 385, 'Table Tennis'),\n",
       " (4, 421, 'Massage Room 1'),\n",
       " (5, 27, 'Massage Room 2'),\n",
       " (6, 195, 'Squash Court'),\n",
       " (7, 421, 'Snooker Table'),\n",
       " (8, 783, 'Pool Table')]"
      ]
     },
     "execution_count": 124,
     "metadata": {},
     "output_type": "execute_result"
    }
   ],
   "source": [
    "rows12 = cur12.fetchall()\n",
    "rows12"
   ]
  },
  {
   "cell_type": "code",
   "execution_count": 129,
   "metadata": {
    "scrolled": true
   },
   "outputs": [
    {
     "data": {
      "text/html": [
       "<div>\n",
       "<style scoped>\n",
       "    .dataframe tbody tr th:only-of-type {\n",
       "        vertical-align: middle;\n",
       "    }\n",
       "\n",
       "    .dataframe tbody tr th {\n",
       "        vertical-align: top;\n",
       "    }\n",
       "\n",
       "    .dataframe thead th {\n",
       "        text-align: right;\n",
       "    }\n",
       "</style>\n",
       "<table border=\"1\" class=\"dataframe\">\n",
       "  <thead>\n",
       "    <tr style=\"text-align: right;\">\n",
       "      <th></th>\n",
       "      <th>facid</th>\n",
       "      <th>mem_usage</th>\n",
       "      <th>name</th>\n",
       "    </tr>\n",
       "  </thead>\n",
       "  <tbody>\n",
       "    <tr>\n",
       "      <th>0</th>\n",
       "      <td>0</td>\n",
       "      <td>308</td>\n",
       "      <td>Tennis Court 1</td>\n",
       "    </tr>\n",
       "    <tr>\n",
       "      <th>1</th>\n",
       "      <td>1</td>\n",
       "      <td>276</td>\n",
       "      <td>Tennis Court 2</td>\n",
       "    </tr>\n",
       "    <tr>\n",
       "      <th>2</th>\n",
       "      <td>2</td>\n",
       "      <td>344</td>\n",
       "      <td>Badminton Court</td>\n",
       "    </tr>\n",
       "    <tr>\n",
       "      <th>3</th>\n",
       "      <td>3</td>\n",
       "      <td>385</td>\n",
       "      <td>Table Tennis</td>\n",
       "    </tr>\n",
       "    <tr>\n",
       "      <th>4</th>\n",
       "      <td>4</td>\n",
       "      <td>421</td>\n",
       "      <td>Massage Room 1</td>\n",
       "    </tr>\n",
       "    <tr>\n",
       "      <th>5</th>\n",
       "      <td>5</td>\n",
       "      <td>27</td>\n",
       "      <td>Massage Room 2</td>\n",
       "    </tr>\n",
       "    <tr>\n",
       "      <th>6</th>\n",
       "      <td>6</td>\n",
       "      <td>195</td>\n",
       "      <td>Squash Court</td>\n",
       "    </tr>\n",
       "    <tr>\n",
       "      <th>7</th>\n",
       "      <td>7</td>\n",
       "      <td>421</td>\n",
       "      <td>Snooker Table</td>\n",
       "    </tr>\n",
       "    <tr>\n",
       "      <th>8</th>\n",
       "      <td>8</td>\n",
       "      <td>783</td>\n",
       "      <td>Pool Table</td>\n",
       "    </tr>\n",
       "  </tbody>\n",
       "</table>\n",
       "</div>"
      ],
      "text/plain": [
       "   facid  mem_usage             name\n",
       "0      0        308   Tennis Court 1\n",
       "1      1        276   Tennis Court 2\n",
       "2      2        344  Badminton Court\n",
       "3      3        385     Table Tennis\n",
       "4      4        421   Massage Room 1\n",
       "5      5         27   Massage Room 2\n",
       "6      6        195     Squash Court\n",
       "7      7        421    Snooker Table\n",
       "8      8        783       Pool Table"
      ]
     },
     "execution_count": 129,
     "metadata": {},
     "output_type": "execute_result"
    }
   ],
   "source": [
    "f12 = pd.DataFrame(rows12, columns=['facid',\n",
    "'mem_usage',\n",
    "'name'])\n",
    "f12"
   ]
  },
  {
   "cell_type": "markdown",
   "metadata": {},
   "source": [
    "Q13: Find the facilities usage by month, but not guests"
   ]
  },
  {
   "cell_type": "code",
   "execution_count": 142,
   "metadata": {},
   "outputs": [
    {
     "ename": "OperationalError",
     "evalue": "no such function: MONTH",
     "output_type": "error",
     "traceback": [
      "\u001b[0;31m---------------------------------------------------------------------------\u001b[0m",
      "\u001b[0;31mOperationalError\u001b[0m                          Traceback (most recent call last)",
      "\u001b[0;32m<ipython-input-142-2a01ed888a06>\u001b[0m in \u001b[0;36m<module>\u001b[0;34m\u001b[0m\n\u001b[1;32m     12\u001b[0m \u001b[0mGROUP\u001b[0m \u001b[0mBY\u001b[0m \u001b[0mb\u001b[0m\u001b[0;34m.\u001b[0m\u001b[0mmonths\u001b[0m\u001b[0;34m;\u001b[0m\u001b[0;34m\u001b[0m\u001b[0;34m\u001b[0m\u001b[0m\n\u001b[1;32m     13\u001b[0m     \"\"\"\n\u001b[0;32m---> 14\u001b[0;31m \u001b[0mcur13\u001b[0m\u001b[0;34m.\u001b[0m\u001b[0mexecute\u001b[0m\u001b[0;34m(\u001b[0m\u001b[0mquery13\u001b[0m\u001b[0;34m)\u001b[0m\u001b[0;34m\u001b[0m\u001b[0;34m\u001b[0m\u001b[0m\n\u001b[0m",
      "\u001b[0;31mOperationalError\u001b[0m: no such function: MONTH"
     ]
    }
   ],
   "source": [
    "cur13 = conn.cursor()\n",
    "    \n",
    "query13 = \"\"\"\n",
    "SELECT \n",
    "    b.months, \n",
    "    COUNT(b.memid) AS usage\n",
    "FROM \n",
    "    (SELECT MONTH(starttime) AS months, \n",
    "    memid\n",
    "FROM Bookings\n",
    "WHERE memid !=0) AS b\n",
    "GROUP BY b.months;\n",
    "    \"\"\"\n",
    "cur13.execute(query13)"
   ]
  },
  {
   "cell_type": "code",
   "execution_count": 143,
   "metadata": {},
   "outputs": [
    {
     "data": {
      "text/plain": [
       "[]"
      ]
     },
     "execution_count": 143,
     "metadata": {},
     "output_type": "execute_result"
    }
   ],
   "source": [
    "rows13 = cur11.fetchall()\n",
    "rows13"
   ]
  },
  {
   "cell_type": "code",
   "execution_count": 144,
   "metadata": {},
   "outputs": [
    {
     "data": {
      "text/html": [
       "<div>\n",
       "<style scoped>\n",
       "    .dataframe tbody tr th:only-of-type {\n",
       "        vertical-align: middle;\n",
       "    }\n",
       "\n",
       "    .dataframe tbody tr th {\n",
       "        vertical-align: top;\n",
       "    }\n",
       "\n",
       "    .dataframe thead th {\n",
       "        text-align: right;\n",
       "    }\n",
       "</style>\n",
       "<table border=\"1\" class=\"dataframe\">\n",
       "  <thead>\n",
       "    <tr style=\"text-align: right;\">\n",
       "      <th></th>\n",
       "      <th>months</th>\n",
       "      <th>usage</th>\n",
       "    </tr>\n",
       "  </thead>\n",
       "  <tbody>\n",
       "  </tbody>\n",
       "</table>\n",
       "</div>"
      ],
      "text/plain": [
       "Empty DataFrame\n",
       "Columns: [months, usage]\n",
       "Index: []"
      ]
     },
     "execution_count": 144,
     "metadata": {},
     "output_type": "execute_result"
    }
   ],
   "source": [
    "f13 = pd.DataFrame(rows13, columns=['months',\n",
    "                                   'usage'])\n",
    "f13"
   ]
  },
  {
   "cell_type": "code",
   "execution_count": null,
   "metadata": {},
   "outputs": [],
   "source": []
  },
  {
   "cell_type": "code",
   "execution_count": null,
   "metadata": {},
   "outputs": [],
   "source": []
  },
  {
   "cell_type": "code",
   "execution_count": null,
   "metadata": {},
   "outputs": [],
   "source": []
  },
  {
   "cell_type": "code",
   "execution_count": null,
   "metadata": {},
   "outputs": [],
   "source": []
  },
  {
   "cell_type": "code",
   "execution_count": null,
   "metadata": {},
   "outputs": [],
   "source": []
  }
 ],
 "metadata": {
  "kernelspec": {
   "display_name": "Python 3",
   "language": "python",
   "name": "python3"
  },
  "language_info": {
   "codemirror_mode": {
    "name": "ipython",
    "version": 3
   },
   "file_extension": ".py",
   "mimetype": "text/x-python",
   "name": "python",
   "nbconvert_exporter": "python",
   "pygments_lexer": "ipython3",
   "version": "3.8.3"
  }
 },
 "nbformat": 4,
 "nbformat_minor": 4
}
